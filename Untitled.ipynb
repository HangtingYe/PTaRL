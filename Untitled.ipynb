{
 "cells": [
  {
   "cell_type": "code",
   "execution_count": 1,
   "id": "efab6913",
   "metadata": {},
   "outputs": [],
   "source": [
    "import json\n",
    "import numpy as np\n",
    "import pandas as pd\n",
    "import os\n",
    "import torch\n",
    "import torch.nn as nn\n",
    "from torch import Tensor\n",
    "import torch.nn.init as nn_init\n",
    "import torch.nn.functional as F\n",
    "from transformers import BertTokenizer, BertTokenizerFast\n",
    "import math\n",
    "import sklearn.preprocessing\n",
    "from sklearn.cluster import KMeans\n",
    "from einops import rearrange, repeat\n",
    "from data import load\n",
    "from sklearn.decomposition import PCA\n",
    "from sklearn.discriminant_analysis import LinearDiscriminantAnalysis\n",
    "from data import load\n",
    "import random\n",
    "import argparse\n",
    "from models import Model\n",
    "import matplotlib.pyplot as plt\n",
    "from scipy.stats import gamma\n",
    "import gc\n",
    "from matplotlib.ticker import FormatStrFormatter\n",
    "import seaborn as sns"
   ]
  },
  {
   "cell_type": "code",
   "execution_count": 2,
   "id": "05b2f8af",
   "metadata": {},
   "outputs": [
    {
     "data": {
      "text/html": [
       "<div>\n",
       "<style scoped>\n",
       "    .dataframe tbody tr th:only-of-type {\n",
       "        vertical-align: middle;\n",
       "    }\n",
       "\n",
       "    .dataframe tbody tr th {\n",
       "        vertical-align: top;\n",
       "    }\n",
       "\n",
       "    .dataframe thead th {\n",
       "        text-align: right;\n",
       "    }\n",
       "</style>\n",
       "<table border=\"1\" class=\"dataframe\">\n",
       "  <thead>\n",
       "    <tr style=\"text-align: right;\">\n",
       "      <th></th>\n",
       "      <th>california_housing</th>\n",
       "      <th>jannis</th>\n",
       "    </tr>\n",
       "  </thead>\n",
       "  <tbody>\n",
       "    <tr>\n",
       "      <th>task_type</th>\n",
       "      <td>regression</td>\n",
       "      <td>multiclass</td>\n",
       "    </tr>\n",
       "    <tr>\n",
       "      <th>n_num_features</th>\n",
       "      <td>8</td>\n",
       "      <td>54</td>\n",
       "    </tr>\n",
       "    <tr>\n",
       "      <th>n_cat_features</th>\n",
       "      <td>0</td>\n",
       "      <td>0</td>\n",
       "    </tr>\n",
       "  </tbody>\n",
       "</table>\n",
       "</div>"
      ],
      "text/plain": [
       "               california_housing      jannis\n",
       "task_type              regression  multiclass\n",
       "n_num_features                  8          54\n",
       "n_cat_features                  0           0"
      ]
     },
     "execution_count": 2,
     "metadata": {},
     "output_type": "execute_result"
    }
   ],
   "source": [
    "statistic = dict()\n",
    "for data in ['california_housing', 'jannis']:\n",
    "    with open(f'./data/{data}/info.json') as f:\n",
    "        info = json.load(f)\n",
    "    l = []\n",
    "    l.append(info.get('task_type'))\n",
    "    l.append(info.get('n_num_features'))\n",
    "    l.append(info.get('n_cat_features'))\n",
    "    statistic[data] = l\n",
    "statistic = pd.DataFrame(statistic).rename(index={0:'task_type', 1:'n_num_features', 2:'n_cat_features'})\n",
    "statistic"
   ]
  },
  {
   "cell_type": "code",
   "execution_count": 3,
   "id": "096e294a",
   "metadata": {},
   "outputs": [],
   "source": [
    "result = dict()\n",
    "for model in ['MLP_ot']:\n",
    "    result_ = []\n",
    "    for data in ['jannis', 'california_housing']:\n",
    "        result_.append(np.load(f'./results_number/{data}_{model}_1.0_default_42_0_kmeans.npy', allow_pickle=True))\n",
    "    result[model] = result_"
   ]
  },
  {
   "cell_type": "code",
   "execution_count": 4,
   "id": "4511d222",
   "metadata": {},
   "outputs": [
    {
     "data": {
      "text/html": [
       "<style type=\"text/css\">\n",
       "</style>\n",
       "<table id=\"T_d339a_\">\n",
       "  <thead>\n",
       "    <tr>\n",
       "      <th class=\"blank level0\" >&nbsp;</th>\n",
       "      <th class=\"col_heading level0 col0\" >MLP_ot</th>\n",
       "    </tr>\n",
       "  </thead>\n",
       "  <tbody>\n",
       "    <tr>\n",
       "      <th id=\"T_d339a_level0_row0\" class=\"row_heading level0 row0\" >jannis</th>\n",
       "      <td id=\"T_d339a_row0_col0\" class=\"data row0 col0\" >0.706</td>\n",
       "    </tr>\n",
       "    <tr>\n",
       "      <th id=\"T_d339a_level0_row1\" class=\"row_heading level0 row1\" >california_housing</th>\n",
       "      <td id=\"T_d339a_row1_col0\" class=\"data row1 col0\" >0.487</td>\n",
       "    </tr>\n",
       "  </tbody>\n",
       "</table>\n"
      ],
      "text/plain": [
       "<pandas.io.formats.style.Styler at 0x7f19607c2390>"
      ]
     },
     "execution_count": 4,
     "metadata": {},
     "output_type": "execute_result"
    }
   ],
   "source": [
    "result = pd.DataFrame(result).rename(index={0:'jannis', 1:'california_housing'})\n",
    "result = result.style.format(\"{:.3f}\")\n",
    "result"
   ]
  },
  {
   "cell_type": "code",
   "execution_count": null,
   "id": "7024df0c",
   "metadata": {},
   "outputs": [],
   "source": []
  }
 ],
 "metadata": {
  "kernelspec": {
   "display_name": "Python 3 (ipykernel)",
   "language": "python",
   "name": "python3"
  },
  "language_info": {
   "codemirror_mode": {
    "name": "ipython",
    "version": 3
   },
   "file_extension": ".py",
   "mimetype": "text/x-python",
   "name": "python",
   "nbconvert_exporter": "python",
   "pygments_lexer": "ipython3",
   "version": "3.7.16"
  }
 },
 "nbformat": 4,
 "nbformat_minor": 5
}
